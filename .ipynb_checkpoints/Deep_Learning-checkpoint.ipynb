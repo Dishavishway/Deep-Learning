{
 "cells": [
  {
   "cell_type": "markdown",
   "metadata": {
    "id": "FLiRQDF4ANt6"
   },
   "source": [
    "#**DAY -1 ------------->9/1/24**"
   ]
  },
  {
   "cell_type": "markdown",
   "metadata": {
    "id": "QQG1gxCMApgO"
   },
   "source": [
    "ANN {Artificial Neural Network}"
   ]
  },
  {
   "cell_type": "code",
   "execution_count": 1,
   "metadata": {
    "id": "oPBbvTzlALr2"
   },
   "outputs": [
    {
     "ename": "ModuleNotFoundError",
     "evalue": "No module named 'tensorflow'",
     "output_type": "error",
     "traceback": [
      "\u001b[1;31m---------------------------------------------------------------------------\u001b[0m",
      "\u001b[1;31mModuleNotFoundError\u001b[0m                       Traceback (most recent call last)",
      "Cell \u001b[1;32mIn[1], line 1\u001b[0m\n\u001b[1;32m----> 1\u001b[0m \u001b[38;5;28;01mimport\u001b[39;00m \u001b[38;5;21;01mtensorflow\u001b[39;00m \u001b[38;5;28;01mas\u001b[39;00m \u001b[38;5;21;01mtf\u001b[39;00m\n\u001b[0;32m      2\u001b[0m \u001b[38;5;28;01mfrom\u001b[39;00m \u001b[38;5;21;01mtensorflow\u001b[39;00m \u001b[38;5;28;01mimport\u001b[39;00m keras\n\u001b[0;32m      3\u001b[0m \u001b[38;5;28;01mimport\u001b[39;00m \u001b[38;5;21;01mnumpy\u001b[39;00m \u001b[38;5;28;01mas\u001b[39;00m \u001b[38;5;21;01mnp\u001b[39;00m\n",
      "\u001b[1;31mModuleNotFoundError\u001b[0m: No module named 'tensorflow'"
     ]
    }
   ],
   "source": [
    "import tensorflow as tf\n",
    "from tensorflow import keras\n",
    "import numpy as np\n",
    "import pandas as pd\n",
    "import matplotlib.pyplot as plt\n",
    "import seaborn as sns\n",
    "import math"
   ]
  },
  {
   "cell_type": "code",
   "execution_count": null,
   "metadata": {
    "colab": {
     "base_uri": "https://localhost:8080/",
     "height": 35
    },
    "id": "NA4Jb65WCAYg",
    "outputId": "63bc7632-298a-4a8d-9925-ff3f8e4fb3f7"
   },
   "outputs": [],
   "source": [
    "tf.__version__"
   ]
  },
  {
   "cell_type": "code",
   "execution_count": null,
   "metadata": {
    "colab": {
     "base_uri": "https://localhost:8080/"
    },
    "id": "6e4iR9mCCRoA",
    "outputId": "a4ff2443-815f-421e-9f19-c9e57a872f17"
   },
   "outputs": [],
   "source": [
    "data = keras.datasets.mnist.load_data()"
   ]
  },
  {
   "cell_type": "code",
   "execution_count": null,
   "metadata": {
    "colab": {
     "base_uri": "https://localhost:8080/"
    },
    "id": "A7299eUmDeP8",
    "outputId": "0eebf63a-9645-4be8-883f-be5c552e0335"
   },
   "outputs": [],
   "source": [
    "data"
   ]
  },
  {
   "cell_type": "code",
   "execution_count": null,
   "metadata": {
    "colab": {
     "base_uri": "https://localhost:8080/"
    },
    "id": "0V1MJMdgDl4X",
    "outputId": "99aa46fc-049d-4d68-dcbd-4d585e7fb09d"
   },
   "outputs": [],
   "source": [
    "type(data)"
   ]
  },
  {
   "cell_type": "code",
   "execution_count": null,
   "metadata": {
    "colab": {
     "base_uri": "https://localhost:8080/"
    },
    "id": "4jm6TMj1EFk2",
    "outputId": "c7124ed6-da6d-4672-cfa9-ac6f26e63569"
   },
   "outputs": [],
   "source": [
    "type(data[0])"
   ]
  },
  {
   "cell_type": "code",
   "execution_count": null,
   "metadata": {
    "colab": {
     "base_uri": "https://localhost:8080/"
    },
    "id": "YVqFK1RJEZKP",
    "outputId": "27843457-a0ae-4139-f466-5cc1d14039c2"
   },
   "outputs": [],
   "source": [
    "type(data[0][0])"
   ]
  },
  {
   "cell_type": "code",
   "execution_count": null,
   "metadata": {
    "id": "GB076M8HEbpI"
   },
   "outputs": [],
   "source": [
    "(X_train, y_train),(X_test,y_test) = keras.datasets.mnist.load_data()"
   ]
  },
  {
   "cell_type": "code",
   "execution_count": null,
   "metadata": {
    "colab": {
     "base_uri": "https://localhost:8080/"
    },
    "id": "uxaeJFb_FR_n",
    "outputId": "271e390c-8724-455b-cb92-9e5c4adf25bd"
   },
   "outputs": [],
   "source": [
    "print(type(X_train))\n",
    "print(X_train.shape)"
   ]
  },
  {
   "cell_type": "code",
   "execution_count": null,
   "metadata": {
    "colab": {
     "base_uri": "https://localhost:8080/"
    },
    "id": "ewZVEN-sFmwm",
    "outputId": "3f8f01c3-c647-4da6-c95b-f36fac3bf68b"
   },
   "outputs": [],
   "source": [
    "X_train.ndim"
   ]
  },
  {
   "cell_type": "code",
   "execution_count": null,
   "metadata": {
    "colab": {
     "base_uri": "https://localhost:8080/"
    },
    "id": "1D29JagWGIwD",
    "outputId": "e6cd991b-7fc8-42fd-f0e9-83d86bd0baa8"
   },
   "outputs": [],
   "source": [
    "print(type(X_test))\n",
    "print(X_test.shape)"
   ]
  },
  {
   "cell_type": "code",
   "execution_count": null,
   "metadata": {
    "colab": {
     "base_uri": "https://localhost:8080/"
    },
    "id": "gge6B9JaG0R8",
    "outputId": "858eac7a-e701-4c49-99f9-f0a03ee5d753"
   },
   "outputs": [],
   "source": [
    "print(type(y_train))\n",
    "print(y_train.shape)"
   ]
  },
  {
   "cell_type": "code",
   "execution_count": null,
   "metadata": {
    "colab": {
     "base_uri": "https://localhost:8080/"
    },
    "id": "x7m43KWtHEV2",
    "outputId": "3d99c7db-2f04-457f-a651-320839865030"
   },
   "outputs": [],
   "source": [
    "print(type(y_test))\n",
    "print(y_test.shape)"
   ]
  },
  {
   "cell_type": "code",
   "execution_count": null,
   "metadata": {
    "colab": {
     "base_uri": "https://localhost:8080/"
    },
    "id": "yidzLiqEHqAN",
    "outputId": "6c71672d-079b-4958-f830-edcd9c60fa08"
   },
   "outputs": [],
   "source": [
    "X_train[6]"
   ]
  },
  {
   "cell_type": "code",
   "execution_count": null,
   "metadata": {
    "colab": {
     "base_uri": "https://localhost:8080/"
    },
    "id": "j23WbhKAH8cX",
    "outputId": "6f9b0b35-2a7d-469a-d42d-259de8d96810"
   },
   "outputs": [],
   "source": [
    "X_train[6].shape"
   ]
  },
  {
   "cell_type": "code",
   "execution_count": null,
   "metadata": {
    "colab": {
     "base_uri": "https://localhost:8080/",
     "height": 454
    },
    "id": "n1jivWdiIKSe",
    "outputId": "0b71ddfe-dac9-4033-aa1e-53237919c181"
   },
   "outputs": [],
   "source": [
    "plt.matshow(X_train[6])"
   ]
  },
  {
   "cell_type": "code",
   "execution_count": null,
   "metadata": {
    "id": "3to4qdCINroT"
   },
   "outputs": [],
   "source": [
    "X_train_flattenned = X_train.reshape(len(X_train),28*28)\n",
    "X_test_flattenned = X_test.reshape(len(X_test),28*28)"
   ]
  },
  {
   "cell_type": "code",
   "execution_count": null,
   "metadata": {
    "id": "NsyTf1QcISep"
   },
   "outputs": [],
   "source": [
    "model = keras.Sequential([\n",
    "    keras.layers.Dense(10,input_shape = (28*28,),activation=\"sigmoid\")])# input and output layer\n",
    "model.compile(optimizer=\"adam\",\n",
    "              loss = \"sparse_categorical_crossentropy\",\n",
    "              metrics =[ \"accuracy\"])"
   ]
  },
  {
   "cell_type": "code",
   "execution_count": null,
   "metadata": {
    "colab": {
     "base_uri": "https://localhost:8080/"
    },
    "id": "rtsZI_I-J5VQ",
    "outputId": "225c8ff4-dbcc-4a41-8a73-f17f6667a61a"
   },
   "outputs": [],
   "source": [
    "model.fit(X_train_flattenned,y_train,epochs=5)"
   ]
  },
  {
   "cell_type": "code",
   "execution_count": null,
   "metadata": {
    "id": "PjYyRewaMnlt"
   },
   "outputs": [],
   "source": [
    "model = keras.Sequential([\n",
    "    keras.layers.Dense(100,input_shape = (28*28,),activation=\"sigmoid\"), # 1 hidden layer\n",
    "    keras.layers.Dense(50,activation=\"relu\"), # 2 hidden layer\n",
    "    keras.layers.Dense(10,activation=\"sigmoid\")]) # input and output layer\n",
    "model.compile(optimizer=\"adam\",\n",
    "              loss = \"sparse_categorical_crossentropy\",\n",
    "              metrics =[ \"accuracy\"])"
   ]
  },
  {
   "cell_type": "code",
   "execution_count": null,
   "metadata": {
    "colab": {
     "base_uri": "https://localhost:8080/"
    },
    "id": "do_rEOeqTJ4V",
    "outputId": "831f6313-683f-4541-f4bd-07b329dbf23b"
   },
   "outputs": [],
   "source": [
    "model.fit(X_train_flattenned,y_train,epochs=5)"
   ]
  },
  {
   "cell_type": "markdown",
   "metadata": {
    "id": "vujZqnpUqm3-"
   },
   "source": [
    "#Day-2 ----------------->10/1/24"
   ]
  },
  {
   "cell_type": "code",
   "execution_count": null,
   "metadata": {
    "id": "DNqqZ4jaVNAd"
   },
   "outputs": [],
   "source": [
    "model2 = keras.Sequential([\n",
    "    keras.layers.Flatten(),\n",
    "    keras.layers.Dense(100,input_shape = (28*28,),activation=\"sigmoid\"), # 1 hidden layer\n",
    "    keras.layers.Dense(50,activation=\"relu\"), # 2 hidden layer\n",
    "    keras.layers.Dense(10,activation=\"sigmoid\")]) # input and output layer\n",
    "model2.compile(optimizer=\"adam\",\n",
    "              loss = \"sparse_categorical_crossentropy\",\n",
    "              metrics =[ \"accuracy\"])"
   ]
  },
  {
   "cell_type": "code",
   "execution_count": null,
   "metadata": {
    "colab": {
     "base_uri": "https://localhost:8080/"
    },
    "id": "J26EyH2nfPa9",
    "outputId": "754204bd-36ef-4584-8fd5-f6ccbf209081"
   },
   "outputs": [],
   "source": [
    "model2.evaluate(X_test,y_test)"
   ]
  },
  {
   "cell_type": "code",
   "execution_count": null,
   "metadata": {
    "colab": {
     "base_uri": "https://localhost:8080/"
    },
    "id": "Qid_kj1cqthd",
    "outputId": "708d7e3f-12fe-40aa-8e0d-a7d450f6cd34"
   },
   "outputs": [],
   "source": [
    "y_test_pre=model2.predict(X_test)"
   ]
  },
  {
   "cell_type": "code",
   "execution_count": null,
   "metadata": {
    "colab": {
     "base_uri": "https://localhost:8080/"
    },
    "id": "KYv0eIoFvXee",
    "outputId": "8d822a1f-e8c8-40a5-8f00-baf5fa34fc76"
   },
   "outputs": [],
   "source": [
    "y_test_pre.shape"
   ]
  },
  {
   "cell_type": "code",
   "execution_count": null,
   "metadata": {
    "colab": {
     "base_uri": "https://localhost:8080/"
    },
    "id": "OHt8kbq4vdG2",
    "outputId": "1b1e8d1c-650f-4f72-c25b-c7a577e99eb1"
   },
   "outputs": [],
   "source": [
    "np.argmax(y_test_pre[5])"
   ]
  },
  {
   "cell_type": "code",
   "execution_count": null,
   "metadata": {
    "id": "X6aKSMmCvkin"
   },
   "outputs": [],
   "source": [
    "max_index = []\n",
    "for i in  range(1000):\n",
    "  max_v = np.argmax(y_test_pre[i])\n",
    "  max_index.append(max_v)\n",
    "y_test_label = np.array(max_index)"
   ]
  },
  {
   "cell_type": "code",
   "execution_count": null,
   "metadata": {
    "id": "Gu121zdtvppn"
   },
   "outputs": [],
   "source": [
    "# y_test_label=[np.argmax(i) for i in y_test_pre]\n",
    "# y_test_label=np.array(y_test_label)"
   ]
  },
  {
   "cell_type": "code",
   "execution_count": null,
   "metadata": {
    "colab": {
     "base_uri": "https://localhost:8080/"
    },
    "id": "kWwPXvt4vvNS",
    "outputId": "55ab6028-0e3d-48e5-b8be-f2aafa81b5fe"
   },
   "outputs": [],
   "source": [
    "y_test_label.shape"
   ]
  },
  {
   "cell_type": "code",
   "execution_count": null,
   "metadata": {
    "colab": {
     "base_uri": "https://localhost:8080/"
    },
    "id": "SDokZ1ACv0Vz",
    "outputId": "6ca231c6-7618-497e-88c2-dc6b528566d1"
   },
   "outputs": [],
   "source": [
    "y_test[7],y_test_pre[7],np.argmax(y_test_pre[7]),y_test_label[14]"
   ]
  },
  {
   "cell_type": "code",
   "execution_count": null,
   "metadata": {
    "colab": {
     "base_uri": "https://localhost:8080/"
    },
    "id": "l2ZKZAxhv31Q",
    "outputId": "5c063abd-bbe4-444d-a7f3-19f3f66e5e98"
   },
   "outputs": [],
   "source": [
    "cm = tf.math.confusion_matrix(y_test.shape, y_test_label.shape)\n",
    "type(cm)"
   ]
  },
  {
   "cell_type": "code",
   "execution_count": null,
   "metadata": {
    "id": "HjSYjSOOv66O"
   },
   "outputs": [],
   "source": [
    " sns.heatmap(cm,annot=True,fmt=\"d\")"
   ]
  },
  {
   "cell_type": "code",
   "execution_count": null,
   "metadata": {
    "id": "QLDOojWuwbBZ"
   },
   "outputs": [],
   "source": [
    "def sigmoid(x):\n",
    "  return 1/(1+math.exp(-x))"
   ]
  },
  {
   "cell_type": "code",
   "execution_count": null,
   "metadata": {
    "id": "1Uj8KjqXweCy"
   },
   "outputs": [],
   "source": [
    "sigmoid(10)"
   ]
  },
  {
   "cell_type": "code",
   "execution_count": null,
   "metadata": {
    "id": "HWRIeTCLvzRr"
   },
   "outputs": [],
   "source": [
    "sigmoid(5000)"
   ]
  },
  {
   "cell_type": "code",
   "execution_count": null,
   "metadata": {
    "id": "NNb929kXC86j"
   },
   "outputs": [],
   "source": [
    "def max(a,b):\n",
    "  if a>b:\n",
    "    return a\n",
    "  else:\n",
    "    return b"
   ]
  },
  {
   "cell_type": "code",
   "execution_count": null,
   "metadata": {
    "id": "5A21AXrfvq6C"
   },
   "outputs": [],
   "source": [
    "def relu(x):\n",
    "  return max(0,x)"
   ]
  },
  {
   "cell_type": "code",
   "execution_count": null,
   "metadata": {
    "id": "0rrGV1krvWG_"
   },
   "outputs": [],
   "source": [
    "relu(1000)"
   ]
  },
  {
   "cell_type": "code",
   "execution_count": null,
   "metadata": {
    "id": "qsoBEEuQwslB"
   },
   "outputs": [],
   "source": [
    "relu(-56)"
   ]
  },
  {
   "cell_type": "code",
   "execution_count": null,
   "metadata": {
    "id": "Ez833SLawsui"
   },
   "outputs": [],
   "source": [
    "def elu(x):\n",
    "  return x if x>=0 else math.exp(x)-1"
   ]
  },
  {
   "cell_type": "code",
   "execution_count": null,
   "metadata": {
    "id": "Y9ApLVk0ws3l"
   },
   "outputs": [],
   "source": [
    "elu(200)"
   ]
  },
  {
   "cell_type": "code",
   "execution_count": null,
   "metadata": {
    "id": "PE_3VsMkw2Gs"
   },
   "outputs": [],
   "source": [
    "def tanh(x):\n",
    "  return max(e)"
   ]
  },
  {
   "cell_type": "code",
   "execution_count": null,
   "metadata": {
    "id": "GEQiYZt7w27n"
   },
   "outputs": [],
   "source": []
  },
  {
   "cell_type": "markdown",
   "metadata": {
    "id": "G2r7KQdDk3o2"
   },
   "source": [
    "#Day-3---------->11/1/24"
   ]
  },
  {
   "cell_type": "code",
   "execution_count": null,
   "metadata": {
    "id": "nC1NxbG7k-q1"
   },
   "outputs": [],
   "source": [
    "model_s = keras.Sequential([\n",
    "    keras.layers.Flatten(),\n",
    "    keras.layers.Dense(10,input_shape = (28*28,),activation=\"softmax\")])# input and output layer\n",
    "model_s.compile(optimizer=\"adam\",\n",
    "              loss = \"sparse_categorical_crossentropy\",\n",
    "              metrics =[ \"accuracy\"])"
   ]
  },
  {
   "cell_type": "code",
   "execution_count": null,
   "metadata": {
    "id": "b2GOrwnSpKtT"
   },
   "outputs": [],
   "source": [
    "model_s.fit(X_train,y_train,epochs=5)"
   ]
  },
  {
   "cell_type": "code",
   "execution_count": null,
   "metadata": {
    "id": "Xc-q90dUpXUX"
   },
   "outputs": [],
   "source": [
    "y_test_pre_s = model_s.predict(X_test_flattenned)"
   ]
  },
  {
   "cell_type": "code",
   "execution_count": null,
   "metadata": {
    "id": "8SwC2FXrrkVi"
   },
   "outputs": [],
   "source": [
    "y_test_pre_s[55]"
   ]
  },
  {
   "cell_type": "code",
   "execution_count": null,
   "metadata": {
    "id": "4ovbOFGrrqBC"
   },
   "outputs": [],
   "source": [
    "np.sum(y_test_pre_s[55]),np.sum(y_test_pre[55])"
   ]
  },
  {
   "cell_type": "markdown",
   "metadata": {
    "id": "VCVfKZiDzyvF"
   },
   "source": [
    "MAE"
   ]
  },
  {
   "cell_type": "code",
   "execution_count": null,
   "metadata": {
    "id": "kgYwWp0tzJfn"
   },
   "outputs": [],
   "source": [
    "y = np.array([1,0,1,0,0])\n",
    "yhat = np.array([0.8,0.2,0.9,0.1,0.2])"
   ]
  },
  {
   "cell_type": "code",
   "execution_count": null,
   "metadata": {
    "id": "KPMiApGr0GqM"
   },
   "outputs": [],
   "source": [
    "def mae(yt, yp):\n",
    "  total_error = 0\n",
    "  for i,j in zip(yt,yp):\n",
    "    total_error = total_error + abs(i-j)\n",
    "\n",
    "  mae = total_error/len(yt)\n",
    "  print(\"Total Error: \",total_error)\n",
    "  print(\"MAE: \",mae)"
   ]
  },
  {
   "cell_type": "code",
   "execution_count": null,
   "metadata": {
    "id": "BNzlhKaK0zsF"
   },
   "outputs": [],
   "source": [
    "mae(y,yhat)"
   ]
  },
  {
   "cell_type": "code",
   "execution_count": null,
   "metadata": {
    "id": "ZG5EKIx002dc"
   },
   "outputs": [],
   "source": [
    "np.abs(y-yhat)"
   ]
  },
  {
   "cell_type": "code",
   "execution_count": null,
   "metadata": {
    "id": "e2uQZViq29Kn"
   },
   "outputs": [],
   "source": [
    "np.mean(np.abs(y-yhat))"
   ]
  },
  {
   "cell_type": "markdown",
   "metadata": {
    "id": "XXsM7aRX3nbn"
   },
   "source": [
    "MSE"
   ]
  },
  {
   "cell_type": "code",
   "execution_count": null,
   "metadata": {
    "id": "C9LqP2JZ3LJi"
   },
   "outputs": [],
   "source": [
    "def mse(yt, yp):\n",
    "  total_error = 0\n",
    "  for i,j in zip(yt,yp):\n",
    "    total_error = total_error + (i-j)**2\n",
    "\n",
    "  mse = total_error/len(yt)\n",
    "  print(\"Total Error: \",total_error)\n",
    "  print(\"MSE: \",mse)"
   ]
  },
  {
   "cell_type": "code",
   "execution_count": null,
   "metadata": {
    "id": "NYWpBgbB4HF3"
   },
   "outputs": [],
   "source": [
    "mse(y,yhat)"
   ]
  },
  {
   "cell_type": "code",
   "execution_count": null,
   "metadata": {
    "id": "0k8v3Jln4KYS"
   },
   "outputs": [],
   "source": [
    "np.mean((y-yhat)**2)"
   ]
  },
  {
   "cell_type": "markdown",
   "metadata": {
    "id": "AH6Id1ms86XT"
   },
   "source": [
    "LOG LOSS"
   ]
  },
  {
   "cell_type": "code",
   "execution_count": null,
   "metadata": {
    "id": "wQVUpvft9oh-"
   },
   "outputs": [],
   "source": [
    "def log_loss(yt,yp):\n",
    "  return -np.mean(yt*np.log(yp)+(1-yt)*np.log(1-yp))"
   ]
  },
  {
   "cell_type": "code",
   "execution_count": null,
   "metadata": {
    "id": "LDKl_S47EPIJ"
   },
   "outputs": [],
   "source": [
    "log_loss(y,yhat)"
   ]
  },
  {
   "cell_type": "code",
   "execution_count": null,
   "metadata": {
    "id": "wDIHm6Gq9rl5"
   },
   "outputs": [],
   "source": [
    "y = np.array([1,0,1,0,0])\n",
    "yhat = np.array([1,0,0.9,0.1,0.2])"
   ]
  },
  {
   "cell_type": "code",
   "execution_count": null,
   "metadata": {
    "id": "LXE5KmBtEWpV"
   },
   "outputs": [],
   "source": [
    "def log_loss(yt,yp):\n",
    "  e=1e-10\n",
    "  print(\"**\",yp)\n",
    "  yp_new= [max(i,i-e) for i in yp]\n",
    "  print(\"**\",yp_new)\n",
    "  yp_new= [min(i,i-e) for i in yp_new]\n",
    "  print(\"**\",yp_new)\n",
    "  yp_new = np.array(yp_new)\n",
    "  return -np.mean(yt*np.log(yp_new)+(1-yt)*np.log(1-yp_new))"
   ]
  },
  {
   "cell_type": "code",
   "execution_count": null,
   "metadata": {
    "id": "WbvVXIeX-Ukx"
   },
   "outputs": [],
   "source": [
    "log_loss(y,yhat)# gives infite value becoz log 0 = infinity"
   ]
  },
  {
   "cell_type": "code",
   "execution_count": null,
   "metadata": {
    "id": "kRSiKPSj-W2I"
   },
   "outputs": [],
   "source": []
  },
  {
   "cell_type": "code",
   "execution_count": null,
   "metadata": {
    "id": "uvR3T81vCijC"
   },
   "outputs": [],
   "source": []
  },
  {
   "cell_type": "code",
   "execution_count": null,
   "metadata": {
    "id": "67-_9Fd_D3Qr"
   },
   "outputs": [],
   "source": []
  }
 ],
 "metadata": {
  "colab": {
   "provenance": []
  },
  "kernelspec": {
   "display_name": "Python 3 (ipykernel)",
   "language": "python",
   "name": "python3"
  },
  "language_info": {
   "codemirror_mode": {
    "name": "ipython",
    "version": 3
   },
   "file_extension": ".py",
   "mimetype": "text/x-python",
   "name": "python",
   "nbconvert_exporter": "python",
   "pygments_lexer": "ipython3",
   "version": "3.11.4"
  }
 },
 "nbformat": 4,
 "nbformat_minor": 1
}
